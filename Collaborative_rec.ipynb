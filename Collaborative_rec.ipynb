{
 "cells": [
  {
   "cell_type": "code",
   "execution_count": 1,
   "metadata": {},
   "outputs": [],
   "source": [
    "import pandas as pd\n",
    "from scipy.sparse import csr_matrix\n",
    "\n",
    "# Load the dataset\n",
    "ratings = pd.read_csv('/home1/chenpaul/EE557/MovieLens/rating.csv')\n"
   ]
  },
  {
   "cell_type": "code",
   "execution_count": 2,
   "metadata": {},
   "outputs": [
    {
     "name": "stdout",
     "output_type": "stream",
     "text": [
      "Unique users in the train set: 138493\n",
      "Unique users in the test set: 138339\n",
      "User IDs in the train set:\n",
      "[50069 97443  3743 ... 13245 44533 40869]\n",
      "\n",
      "User IDs in the test set:\n",
      "[122270  49018  89527 ...   6149  75769 138204]\n"
     ]
    }
   ],
   "source": [
    "from sklearn.model_selection import train_test_split\n",
    "\n",
    "# Split the dataset into training and testing sets\n",
    "train_data, test_data = train_test_split(ratings, test_size=0.2, random_state=42)\n",
    "\n",
    "# Create the training set user-item matrix\n",
    "train_data_matrix = csr_matrix((train_data['rating'], (train_data['userId'], train_data['movieId'])))\n",
    "\n",
    "# Create the test set user-item matrix\n",
    "test_data_matrix = csr_matrix((test_data['rating'], (test_data['userId'], test_data['movieId'])))\n",
    "\n",
    "# Get the unique users in the train set\n",
    "unique_users_train = train_data['userId'].unique()\n",
    "print(f\"Unique users in the train set: {len(unique_users_train)}\")\n",
    "\n",
    "# Get the unique users in the test set\n",
    "unique_users_test = test_data['userId'].unique()\n",
    "print(f\"Unique users in the test set: {len(unique_users_test)}\")\n",
    "\n",
    "# Print the actual user IDs\n",
    "print(\"User IDs in the train set:\")\n",
    "print(unique_users_train)\n",
    "print(\"\\nUser IDs in the test set:\")\n",
    "print(unique_users_test)"
   ]
  },
  {
   "cell_type": "code",
   "execution_count": 3,
   "metadata": {},
   "outputs": [],
   "source": [
    "from sklearn.metrics.pairwise import cosine_similarity\n",
    "from sklearn.metrics import mean_squared_error\n",
    "from math import sqrt\n",
    "import numpy as np\n",
    "# Function to calculate RMSE\n",
    "def calculate_rmse(predictions, user_index, test_matrix, test_movies_indices):\n",
    "    # predictions = np.array(predictions)[test_movies_indices]\n",
    "    # Ground truth ratings for the user in the test set\n",
    "    ground_truth_ratings = test_matrix[user_index, test_movies_indices].toarray()[0]\n",
    "    # Calculate RMSE\n",
    "    rmse_value = sqrt(mean_squared_error(ground_truth_ratings, predictions))\n",
    "\n",
    "    return rmse_value"
   ]
  },
  {
   "cell_type": "markdown",
   "metadata": {},
   "source": [
    "user-based collaborative filtering"
   ]
  },
  {
   "cell_type": "code",
   "execution_count": 31,
   "metadata": {},
   "outputs": [],
   "source": [
    "def predict_single_user_ratings(user_index, train_matrix, test_matrix):\n",
    "    # Identify the indices of movies that the user has rated in the test set\n",
    "    test_movies_indices = test_matrix[user_index].nonzero()[1]\n",
    "    \n",
    "    # Initialize predictions array with zeros\n",
    "    predictions = np.zeros(test_matrix.shape[1])\n",
    "    \n",
    "    # Initialize a list to store similarities for later use\n",
    "    user_similarities = []\n",
    "    \n",
    "    # For each movie that the user has rated in the test set\n",
    "    for movie_idx in test_movies_indices:\n",
    "        # Find all users who have rated this movie\n",
    "        users_who_rated_movie = train_matrix[:, movie_idx].nonzero()[0]\n",
    "        # If no other users have rated this movie, we skip it\n",
    "        if users_who_rated_movie.size == 0:\n",
    "            continue\n",
    "        # Compute cosine similarity only between the user and the users who have rated this movie\n",
    "        user_similarity = cosine_similarity(train_matrix[user_index, :],\n",
    "                                            train_matrix[users_who_rated_movie, :]).flatten()\n",
    "        user_similarities.append(user_similarity)\n",
    "        \n",
    "        # Get the ratings given by all users to this movie\n",
    "        movie_ratings = train_matrix[users_who_rated_movie, movie_idx].toarray().flatten()\n",
    "        \n",
    "        # Compute the predicted rating as a weighted average where weights are the cosine similarities\n",
    "        numerator = np.dot(movie_ratings, user_similarity)\n",
    "        denominator = np.sum(np.abs(user_similarity)) + 1e-10  # Added a small number to avoid division by zero\n",
    "        \n",
    "        # Store the predicted rating\n",
    "        predictions[movie_idx] = numerator / denominator\n",
    "    \n",
    "    # In this context, we return only the predictions for the movies the user has rated in the test set\n",
    "    return predictions[test_movies_indices], test_movies_indices, user_similarities"
   ]
  },
  {
   "cell_type": "code",
   "execution_count": 32,
   "metadata": {},
   "outputs": [
    {
     "name": "stdout",
     "output_type": "stream",
     "text": [
      "RMSE for user 122270: 0.722712485880963\n",
      "RMSE for user 49018: 1.6313820086221362\n",
      "RMSE for user 89527: 0.8427505829969371\n",
      "RMSE for user 106704: 0.8258437295243516\n",
      "RMSE for user 47791: 1.7818391114192897\n"
     ]
    }
   ],
   "source": [
    "for i in range(5):\n",
    "    user_index = unique_users_test[i]\n",
    "    predictions, test_movies_indices, user_similarities = predict_single_user_ratings(user_index, train_data_matrix, test_data_matrix)\n",
    "    user_rmse = calculate_rmse(predictions, user_index, test_data_matrix, test_movies_indices)\n",
    "\n",
    "    print(f'RMSE for user {user_index}: {user_rmse}')"
   ]
  },
  {
   "cell_type": "markdown",
   "metadata": {},
   "source": [
    "Item-based collaborative filtering"
   ]
  },
  {
   "cell_type": "code",
   "execution_count": 29,
   "metadata": {},
   "outputs": [],
   "source": [
    "def predict_item_ratings_for_user(user_index, train_matrix, test_matrix, default_rating=0):\n",
    "    test_items_indices = test_matrix[:,user_index].nonzero()[0]\n",
    "    predictions = np.zeros(len(test_items_indices))\n",
    "    # predictions = np.full(len(test_items_indices), default_rating)  # Fill with default_rating\n",
    "    # print (test_items_indices)\n",
    "    for idx, item_index in enumerate(test_items_indices):\n",
    "        users_who_rated_item = train_matrix[item_index, :].nonzero()[1]\n",
    "        # print(\"item index\", item_index)\n",
    "        # print(\"users_who_rated_item\", users_who_rated_item)\n",
    "\n",
    "        if len(users_who_rated_item) == 0:\n",
    "            continue\n",
    "\n",
    "        item_similarity = cosine_similarity(train_matrix[item_index, :].reshape(1, -1), train_matrix).flatten()\n",
    "        # print (item_similarity)\n",
    "        numerator = np.dot(item_similarity, train_matrix[:, item_index].toarray().flatten())\n",
    "        denominator = np.sum(np.abs(item_similarity))\n",
    "        # print (numerator, denominator)\n",
    "        # if denominator != 0:\n",
    "        predictions[idx] = numerator / denominator\n",
    "        # print(idx, predictions[idx])\n",
    "\n",
    "    return predictions, test_items_indices\n"
   ]
  },
  {
   "cell_type": "code",
   "execution_count": 30,
   "metadata": {},
   "outputs": [
    {
     "name": "stdout",
     "output_type": "stream",
     "text": [
      "RMSE for user 122270: 0.14352068663892514\n",
      "RMSE for user 49018: 0.13947555259321676\n",
      "RMSE for user 89527: 0.15071550077281856\n",
      "RMSE for user 106704: 0.1346243672303745\n",
      "RMSE for user 47791: 0.1433481878133586\n"
     ]
    }
   ],
   "source": [
    "for i in range(5):\n",
    "    user_index = unique_users_test[i]\n",
    "    predictions, test_movies_indices = predict_item_ratings_for_user(user_index, train_data_matrix.T, test_data_matrix.T)\n",
    "    # print(predictions)\n",
    "    user_rmse = calculate_rmse(predictions, user_index, train_data_matrix, test_movies_indices)\n",
    "\n",
    "    print(f'RMSE for user {user_index}: {user_rmse}')"
   ]
  },
  {
   "cell_type": "code",
   "execution_count": null,
   "metadata": {},
   "outputs": [],
   "source": []
  },
  {
   "cell_type": "code",
   "execution_count": null,
   "metadata": {},
   "outputs": [],
   "source": []
  }
 ],
 "metadata": {
  "kernelspec": {
   "display_name": "Python 3",
   "language": "python",
   "name": "python3"
  },
  "language_info": {
   "codemirror_mode": {
    "name": "ipython",
    "version": 3
   },
   "file_extension": ".py",
   "mimetype": "text/x-python",
   "name": "python",
   "nbconvert_exporter": "python",
   "pygments_lexer": "ipython3",
   "version": "3.9.12"
  },
  "orig_nbformat": 4
 },
 "nbformat": 4,
 "nbformat_minor": 2
}
